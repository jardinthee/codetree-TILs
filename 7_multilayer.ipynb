{
  "nbformat": 4,
  "nbformat_minor": 0,
  "metadata": {
    "colab": {
      "provenance": [],
      "authorship_tag": "ABX9TyO24b0sx9FUBkwkIQc9Jbix",
      "include_colab_link": true
    },
    "kernelspec": {
      "name": "python3",
      "display_name": "Python 3"
    },
    "language_info": {
      "name": "python"
    }
  },
  "cells": [
    {
      "cell_type": "markdown",
      "metadata": {
        "id": "view-in-github",
        "colab_type": "text"
      },
      "source": [
        "<a href=\"https://colab.research.google.com/github/jardinthee/codetree-TILs/blob/main/7_multilayer.ipynb\" target=\"_parent\"><img src=\"https://colab.research.google.com/assets/colab-badge.svg\" alt=\"Open In Colab\"/></a>"
      ]
    },
    {
      "cell_type": "markdown",
      "source": [
        "# 7장_멀티레이어 인공 신경망\n",
        "히든레이어와 멀티레이어의 구조를 이해하고, 히든 레이어를 추가란 멀티레이어 인공 신경망 모델을 완성하기"
      ],
      "metadata": {
        "id": "KUckAfho0L54"
      }
    },
    {
      "cell_type": "code",
      "source": [
        "#히든 레이어 실습\n",
        "\n",
        "import tensorflow as tf\n",
        "import pandas as pd\n",
        "\n",
        "파일경로 = 'https://raw.githubusercontent.com/blackdew/tensorflow1/master/csv/boston.csv'\n",
        "보스턴 = pd.read_csv(파일경로)\n",
        "\n",
        "print(보스턴.columns)"
      ],
      "metadata": {
        "colab": {
          "base_uri": "https://localhost:8080/"
        },
        "id": "UYdEh2ZP0bml",
        "outputId": "9c5f4791-5e5b-466c-f31d-c42338412d0d"
      },
      "execution_count": 1,
      "outputs": [
        {
          "output_type": "stream",
          "name": "stdout",
          "text": [
            "Index(['crim', 'zn', 'indus', 'chas', 'nox', 'rm', 'age', 'dis', 'rad', 'tax',\n",
            "       'ptratio', 'b', 'lstat', 'medv'],\n",
            "      dtype='object')\n"
          ]
        }
      ]
    },
    {
      "cell_type": "code",
      "source": [
        "독립 = 보스턴[['crim', 'zn', 'indus', 'chas', 'nox', 'rm', 'age', 'dis', 'rad', 'tax','ptratio', 'b', 'lstat']]\n",
        "종속 = 보스턴[['medv']]"
      ],
      "metadata": {
        "id": "T4rcUTcw78hn"
      },
      "execution_count": 3,
      "outputs": []
    },
    {
      "cell_type": "markdown",
      "source": [
        "# 모델의 구조 만들기"
      ],
      "metadata": {
        "id": "wboRIgxK8oX0"
      }
    },
    {
      "cell_type": "code",
      "source": [
        "X = tf.keras.layers.Input(shape=[13])\n",
        "H = tf.keras.layers.Dense(10, activation = 'swish')(X)\n",
        "Y = tf.keras.layers.Dense(1)(H)\n",
        "\n",
        "model = tf.keras.models.Model(X,Y)\n",
        "model.compile(loss = 'mse')\n",
        "\n",
        "model.fit(독립,종속,epochs=100)"
      ],
      "metadata": {
        "colab": {
          "base_uri": "https://localhost:8080/"
        },
        "id": "iMWQx4b68rVw",
        "outputId": "b394abc5-6986-412a-969d-d478618c7e0c"
      },
      "execution_count": 4,
      "outputs": [
        {
          "output_type": "stream",
          "name": "stdout",
          "text": [
            "Epoch 1/100\n",
            "16/16 [==============================] - 1s 2ms/step - loss: 7508.8574\n",
            "Epoch 2/100\n",
            "16/16 [==============================] - 0s 2ms/step - loss: 1844.9257\n",
            "Epoch 3/100\n",
            "16/16 [==============================] - 0s 2ms/step - loss: 675.9770\n",
            "Epoch 4/100\n",
            "16/16 [==============================] - 0s 2ms/step - loss: 481.8105\n",
            "Epoch 5/100\n",
            "16/16 [==============================] - 0s 3ms/step - loss: 339.5197\n",
            "Epoch 6/100\n",
            "16/16 [==============================] - 0s 2ms/step - loss: 205.5761\n",
            "Epoch 7/100\n",
            "16/16 [==============================] - 0s 2ms/step - loss: 130.5845\n",
            "Epoch 8/100\n",
            "16/16 [==============================] - 0s 2ms/step - loss: 97.5904\n",
            "Epoch 9/100\n",
            "16/16 [==============================] - 0s 2ms/step - loss: 85.3139\n",
            "Epoch 10/100\n",
            "16/16 [==============================] - 0s 2ms/step - loss: 75.8385\n",
            "Epoch 11/100\n",
            "16/16 [==============================] - 0s 2ms/step - loss: 68.9227\n",
            "Epoch 12/100\n",
            "16/16 [==============================] - 0s 2ms/step - loss: 62.9193\n",
            "Epoch 13/100\n",
            "16/16 [==============================] - 0s 2ms/step - loss: 63.1220\n",
            "Epoch 14/100\n",
            "16/16 [==============================] - 0s 2ms/step - loss: 59.4437\n",
            "Epoch 15/100\n",
            "16/16 [==============================] - 0s 2ms/step - loss: 55.4367\n",
            "Epoch 16/100\n",
            "16/16 [==============================] - 0s 2ms/step - loss: 59.9239\n",
            "Epoch 17/100\n",
            "16/16 [==============================] - 0s 2ms/step - loss: 53.5524\n",
            "Epoch 18/100\n",
            "16/16 [==============================] - 0s 2ms/step - loss: 55.4110\n",
            "Epoch 19/100\n",
            "16/16 [==============================] - 0s 2ms/step - loss: 52.0024\n",
            "Epoch 20/100\n",
            "16/16 [==============================] - 0s 2ms/step - loss: 52.7686\n",
            "Epoch 21/100\n",
            "16/16 [==============================] - 0s 2ms/step - loss: 53.1236\n",
            "Epoch 22/100\n",
            "16/16 [==============================] - 0s 2ms/step - loss: 50.8248\n",
            "Epoch 23/100\n",
            "16/16 [==============================] - 0s 2ms/step - loss: 48.9240\n",
            "Epoch 24/100\n",
            "16/16 [==============================] - 0s 2ms/step - loss: 53.1060\n",
            "Epoch 25/100\n",
            "16/16 [==============================] - 0s 2ms/step - loss: 48.6777\n",
            "Epoch 26/100\n",
            "16/16 [==============================] - 0s 2ms/step - loss: 49.8129\n",
            "Epoch 27/100\n",
            "16/16 [==============================] - 0s 2ms/step - loss: 51.7853\n",
            "Epoch 28/100\n",
            "16/16 [==============================] - 0s 2ms/step - loss: 48.0477\n",
            "Epoch 29/100\n",
            "16/16 [==============================] - 0s 2ms/step - loss: 50.5080\n",
            "Epoch 30/100\n",
            "16/16 [==============================] - 0s 2ms/step - loss: 45.2434\n",
            "Epoch 31/100\n",
            "16/16 [==============================] - 0s 2ms/step - loss: 50.7159\n",
            "Epoch 32/100\n",
            "16/16 [==============================] - 0s 2ms/step - loss: 46.4823\n",
            "Epoch 33/100\n",
            "16/16 [==============================] - 0s 3ms/step - loss: 48.5071\n",
            "Epoch 34/100\n",
            "16/16 [==============================] - 0s 2ms/step - loss: 47.5294\n",
            "Epoch 35/100\n",
            "16/16 [==============================] - 0s 2ms/step - loss: 44.3809\n",
            "Epoch 36/100\n",
            "16/16 [==============================] - 0s 3ms/step - loss: 45.0923\n",
            "Epoch 37/100\n",
            "16/16 [==============================] - 0s 3ms/step - loss: 44.7067\n",
            "Epoch 38/100\n",
            "16/16 [==============================] - 0s 3ms/step - loss: 44.5047\n",
            "Epoch 39/100\n",
            "16/16 [==============================] - 0s 3ms/step - loss: 45.3177\n",
            "Epoch 40/100\n",
            "16/16 [==============================] - 0s 3ms/step - loss: 44.6523\n",
            "Epoch 41/100\n",
            "16/16 [==============================] - 0s 2ms/step - loss: 43.2487\n",
            "Epoch 42/100\n",
            "16/16 [==============================] - 0s 2ms/step - loss: 46.9174\n",
            "Epoch 43/100\n",
            "16/16 [==============================] - 0s 3ms/step - loss: 44.6537\n",
            "Epoch 44/100\n",
            "16/16 [==============================] - 0s 3ms/step - loss: 46.5152\n",
            "Epoch 45/100\n",
            "16/16 [==============================] - 0s 2ms/step - loss: 42.5858\n",
            "Epoch 46/100\n",
            "16/16 [==============================] - 0s 3ms/step - loss: 44.8846\n",
            "Epoch 47/100\n",
            "16/16 [==============================] - 0s 3ms/step - loss: 42.4463\n",
            "Epoch 48/100\n",
            "16/16 [==============================] - 0s 2ms/step - loss: 42.9148\n",
            "Epoch 49/100\n",
            "16/16 [==============================] - 0s 2ms/step - loss: 43.6265\n",
            "Epoch 50/100\n",
            "16/16 [==============================] - 0s 3ms/step - loss: 43.3164\n",
            "Epoch 51/100\n",
            "16/16 [==============================] - 0s 2ms/step - loss: 43.0231\n",
            "Epoch 52/100\n",
            "16/16 [==============================] - 0s 2ms/step - loss: 39.7253\n",
            "Epoch 53/100\n",
            "16/16 [==============================] - 0s 2ms/step - loss: 43.4693\n",
            "Epoch 54/100\n",
            "16/16 [==============================] - 0s 2ms/step - loss: 44.4941\n",
            "Epoch 55/100\n",
            "16/16 [==============================] - 0s 3ms/step - loss: 42.6595\n",
            "Epoch 56/100\n",
            "16/16 [==============================] - 0s 2ms/step - loss: 42.1760\n",
            "Epoch 57/100\n",
            "16/16 [==============================] - 0s 3ms/step - loss: 40.3509\n",
            "Epoch 58/100\n",
            "16/16 [==============================] - 0s 3ms/step - loss: 40.9378\n",
            "Epoch 59/100\n",
            "16/16 [==============================] - 0s 3ms/step - loss: 42.2052\n",
            "Epoch 60/100\n",
            "16/16 [==============================] - 0s 3ms/step - loss: 40.6068\n",
            "Epoch 61/100\n",
            "16/16 [==============================] - 0s 3ms/step - loss: 40.7041\n",
            "Epoch 62/100\n",
            "16/16 [==============================] - 0s 2ms/step - loss: 39.8345\n",
            "Epoch 63/100\n",
            "16/16 [==============================] - 0s 3ms/step - loss: 38.7323\n",
            "Epoch 64/100\n",
            "16/16 [==============================] - 0s 2ms/step - loss: 45.1063\n",
            "Epoch 65/100\n",
            "16/16 [==============================] - 0s 2ms/step - loss: 42.1658\n",
            "Epoch 66/100\n",
            "16/16 [==============================] - 0s 2ms/step - loss: 39.4585\n",
            "Epoch 67/100\n",
            "16/16 [==============================] - 0s 2ms/step - loss: 40.3539\n",
            "Epoch 68/100\n",
            "16/16 [==============================] - 0s 2ms/step - loss: 39.7355\n",
            "Epoch 69/100\n",
            "16/16 [==============================] - 0s 2ms/step - loss: 42.1118\n",
            "Epoch 70/100\n",
            "16/16 [==============================] - 0s 2ms/step - loss: 40.3927\n",
            "Epoch 71/100\n",
            "16/16 [==============================] - 0s 2ms/step - loss: 37.8369\n",
            "Epoch 72/100\n",
            "16/16 [==============================] - 0s 2ms/step - loss: 42.4362\n",
            "Epoch 73/100\n",
            "16/16 [==============================] - 0s 2ms/step - loss: 39.0923\n",
            "Epoch 74/100\n",
            "16/16 [==============================] - 0s 2ms/step - loss: 42.5365\n",
            "Epoch 75/100\n",
            "16/16 [==============================] - 0s 2ms/step - loss: 38.4302\n",
            "Epoch 76/100\n",
            "16/16 [==============================] - 0s 2ms/step - loss: 38.0374\n",
            "Epoch 77/100\n",
            "16/16 [==============================] - 0s 2ms/step - loss: 40.5712\n",
            "Epoch 78/100\n",
            "16/16 [==============================] - 0s 2ms/step - loss: 37.9781\n",
            "Epoch 79/100\n",
            "16/16 [==============================] - 0s 2ms/step - loss: 39.3741\n",
            "Epoch 80/100\n",
            "16/16 [==============================] - 0s 2ms/step - loss: 40.3226\n",
            "Epoch 81/100\n",
            "16/16 [==============================] - 0s 4ms/step - loss: 38.3013\n",
            "Epoch 82/100\n",
            "16/16 [==============================] - 0s 3ms/step - loss: 40.7926\n",
            "Epoch 83/100\n",
            "16/16 [==============================] - 0s 2ms/step - loss: 38.7507\n",
            "Epoch 84/100\n",
            "16/16 [==============================] - 0s 2ms/step - loss: 39.4062\n",
            "Epoch 85/100\n",
            "16/16 [==============================] - 0s 2ms/step - loss: 38.4533\n",
            "Epoch 86/100\n",
            "16/16 [==============================] - 0s 3ms/step - loss: 39.8025\n",
            "Epoch 87/100\n",
            "16/16 [==============================] - 0s 3ms/step - loss: 36.3687\n",
            "Epoch 88/100\n",
            "16/16 [==============================] - 0s 3ms/step - loss: 38.4334\n",
            "Epoch 89/100\n",
            "16/16 [==============================] - 0s 3ms/step - loss: 39.3990\n",
            "Epoch 90/100\n",
            "16/16 [==============================] - 0s 3ms/step - loss: 38.6004\n",
            "Epoch 91/100\n",
            "16/16 [==============================] - 0s 3ms/step - loss: 38.2244\n",
            "Epoch 92/100\n",
            "16/16 [==============================] - 0s 3ms/step - loss: 39.3720\n",
            "Epoch 93/100\n",
            "16/16 [==============================] - 0s 2ms/step - loss: 36.5838\n",
            "Epoch 94/100\n",
            "16/16 [==============================] - 0s 3ms/step - loss: 39.3851\n",
            "Epoch 95/100\n",
            "16/16 [==============================] - 0s 3ms/step - loss: 39.2270\n",
            "Epoch 96/100\n",
            "16/16 [==============================] - 0s 2ms/step - loss: 37.9112\n",
            "Epoch 97/100\n",
            "16/16 [==============================] - 0s 3ms/step - loss: 37.5799\n",
            "Epoch 98/100\n",
            "16/16 [==============================] - 0s 3ms/step - loss: 41.1260\n",
            "Epoch 99/100\n",
            "16/16 [==============================] - 0s 2ms/step - loss: 38.5872\n",
            "Epoch 100/100\n",
            "16/16 [==============================] - 0s 3ms/step - loss: 36.0696\n"
          ]
        },
        {
          "output_type": "execute_result",
          "data": {
            "text/plain": [
              "<keras.src.callbacks.History at 0x7c4777d196c0>"
            ]
          },
          "metadata": {},
          "execution_count": 4
        }
      ]
    },
    {
      "cell_type": "code",
      "source": [
        "model.fit(독립,종속,epochs=1000,verbose=0)\n",
        "model.fit(독립,종속, epochs=10)"
      ],
      "metadata": {
        "colab": {
          "base_uri": "https://localhost:8080/"
        },
        "id": "HzN9Sywt9XPy",
        "outputId": "62f3c36c-8f92-4c10-d3fc-8bd4088267a9"
      },
      "execution_count": 5,
      "outputs": [
        {
          "output_type": "stream",
          "name": "stdout",
          "text": [
            "Epoch 1/10\n",
            "16/16 [==============================] - 0s 3ms/step - loss: 24.4281\n",
            "Epoch 2/10\n",
            "16/16 [==============================] - 0s 2ms/step - loss: 26.0881\n",
            "Epoch 3/10\n",
            "16/16 [==============================] - 0s 2ms/step - loss: 25.4057\n",
            "Epoch 4/10\n",
            "16/16 [==============================] - 0s 2ms/step - loss: 27.1420\n",
            "Epoch 5/10\n",
            "16/16 [==============================] - 0s 2ms/step - loss: 25.0988\n",
            "Epoch 6/10\n",
            "16/16 [==============================] - 0s 2ms/step - loss: 25.8018\n",
            "Epoch 7/10\n",
            "16/16 [==============================] - 0s 2ms/step - loss: 22.5152\n",
            "Epoch 8/10\n",
            "16/16 [==============================] - 0s 2ms/step - loss: 25.3234\n",
            "Epoch 9/10\n",
            "16/16 [==============================] - 0s 2ms/step - loss: 25.5505\n",
            "Epoch 10/10\n",
            "16/16 [==============================] - 0s 2ms/step - loss: 25.5198\n"
          ]
        },
        {
          "output_type": "execute_result",
          "data": {
            "text/plain": [
              "<keras.src.callbacks.History at 0x7c47778f6290>"
            ]
          },
          "metadata": {},
          "execution_count": 5
        }
      ]
    },
    {
      "cell_type": "code",
      "source": [
        "model.fit(독립,종속,epochs=1000,verbose=0)\n",
        "model.fit(독립,종속, epochs=10)"
      ],
      "metadata": {
        "colab": {
          "base_uri": "https://localhost:8080/"
        },
        "id": "Dq2CzIwL97xL",
        "outputId": "45fef800-32a3-48b6-8dbd-b7de4d981bbf"
      },
      "execution_count": 6,
      "outputs": [
        {
          "output_type": "stream",
          "name": "stdout",
          "text": [
            "Epoch 1/10\n",
            "16/16 [==============================] - 0s 2ms/step - loss: 27.0818\n",
            "Epoch 2/10\n",
            "16/16 [==============================] - 0s 2ms/step - loss: 24.0723\n",
            "Epoch 3/10\n",
            "16/16 [==============================] - 0s 2ms/step - loss: 21.9267\n",
            "Epoch 4/10\n",
            "16/16 [==============================] - 0s 2ms/step - loss: 27.0792\n",
            "Epoch 5/10\n",
            "16/16 [==============================] - 0s 2ms/step - loss: 22.5538\n",
            "Epoch 6/10\n",
            "16/16 [==============================] - 0s 2ms/step - loss: 25.6757\n",
            "Epoch 7/10\n",
            "16/16 [==============================] - 0s 2ms/step - loss: 24.0520\n",
            "Epoch 8/10\n",
            "16/16 [==============================] - 0s 3ms/step - loss: 24.0023\n",
            "Epoch 9/10\n",
            "16/16 [==============================] - 0s 2ms/step - loss: 23.2063\n",
            "Epoch 10/10\n",
            "16/16 [==============================] - 0s 2ms/step - loss: 24.8574\n"
          ]
        },
        {
          "output_type": "execute_result",
          "data": {
            "text/plain": [
              "<keras.src.callbacks.History at 0x7c4777b65d50>"
            ]
          },
          "metadata": {},
          "execution_count": 6
        }
      ]
    },
    {
      "cell_type": "code",
      "source": [
        "model.summary()"
      ],
      "metadata": {
        "colab": {
          "base_uri": "https://localhost:8080/"
        },
        "id": "KgKVEG3t-cEe",
        "outputId": "6a039712-ed37-409d-a1be-4f6716286ab4"
      },
      "execution_count": 7,
      "outputs": [
        {
          "output_type": "stream",
          "name": "stdout",
          "text": [
            "Model: \"model\"\n",
            "_________________________________________________________________\n",
            " Layer (type)                Output Shape              Param #   \n",
            "=================================================================\n",
            " input_1 (InputLayer)        [(None, 13)]              0         \n",
            "                                                                 \n",
            " dense (Dense)               (None, 10)                140       \n",
            "                                                                 \n",
            " dense_1 (Dense)             (None, 1)                 11        \n",
            "                                                                 \n",
            "=================================================================\n",
            "Total params: 151 (604.00 Byte)\n",
            "Trainable params: 151 (604.00 Byte)\n",
            "Non-trainable params: 0 (0.00 Byte)\n",
            "_________________________________________________________________\n"
          ]
        }
      ]
    },
    {
      "cell_type": "markdown",
      "source": [
        "설명: 마지막 출력층(output_3)은 13개의 입력을 받아서 하나의 출력을 만드니까 10개의 항에 bias가 1개 추가되어서 10+1개의 가중치를 찾게 됨\n",
        "\n",
        "두번째 층(dense_2)는 수식을 10개 만드는 것인데, 입력으로 받은 13개의 항에 마지막 bias 1개를 더해서 수식마다 14개의 가중치가 필요하므로 (13+1)*10 = 140개의 가중치를 찾는다고 해석됨"
      ],
      "metadata": {
        "id": "EyXJtrn2-h4z"
      }
    },
    {
      "cell_type": "markdown",
      "source": [
        "# 모델을 이용"
      ],
      "metadata": {
        "id": "bpfSVvvT_SZd"
      }
    },
    {
      "cell_type": "code",
      "source": [
        "print(model.predict(독립[:5]))\n",
        "print(종속[:5])"
      ],
      "metadata": {
        "colab": {
          "base_uri": "https://localhost:8080/"
        },
        "id": "_LkneF-M_Q6A",
        "outputId": "43fb082e-6e22-431b-ea91-7bf3ac1817a2"
      },
      "execution_count": 8,
      "outputs": [
        {
          "output_type": "stream",
          "name": "stdout",
          "text": [
            "1/1 [==============================] - 0s 110ms/step\n",
            "[[30.414087]\n",
            " [23.03135 ]\n",
            " [29.161264]\n",
            " [34.26629 ]\n",
            " [32.9762  ]]\n",
            "   medv\n",
            "0  24.0\n",
            "1  21.6\n",
            "2  34.7\n",
            "3  33.4\n",
            "4  36.2\n"
          ]
        }
      ]
    },
    {
      "cell_type": "markdown",
      "source": [
        "# 붓꽃 품종 분류\n",
        "\n",
        "이제 품종 분류도 멀티 레이어로 바꿔보겠습니다"
      ],
      "metadata": {
        "id": "dY6PnmFP_nzG"
      }
    },
    {
      "cell_type": "markdown",
      "source": [
        "과거의 데이터를 준비하기"
      ],
      "metadata": {
        "id": "OppMUPtm_xC4"
      }
    },
    {
      "cell_type": "code",
      "source": [
        "파일경로 = 'https://raw.githubusercontent.com/blackdew/tensorflow1/master/csv/iris.csv'\n",
        "아이리스 = pd.read_csv(파일경로)\n",
        "\n",
        "아이리스 = pd.get_dummies(아이리스)\n",
        "\n",
        "독립 = 아이리스[['꽃잎길이', '꽃잎폭', '꽃받침길이', '꽃받침폭']]\n",
        "종속 = 아이리스[['품종_setosa', '품종_versicolor','품종_virginica']]\n",
        "\n",
        "print(독립.shape,종속.shape)"
      ],
      "metadata": {
        "colab": {
          "base_uri": "https://localhost:8080/"
        },
        "id": "ji4h2A4U_z9P",
        "outputId": "589f0c43-8340-4401-f0f6-c0f6292261ea"
      },
      "execution_count": 13,
      "outputs": [
        {
          "output_type": "stream",
          "name": "stdout",
          "text": [
            "(150, 4) (150, 3)\n"
          ]
        }
      ]
    },
    {
      "cell_type": "markdown",
      "source": [
        "모델의 구조 만들기"
      ],
      "metadata": {
        "id": "SXZAqlUgA_sQ"
      }
    },
    {
      "cell_type": "code",
      "source": [
        "X = tf.keras.layers.Input(shape=[4])\n",
        "H = tf.keras.layers.Dense(8,activation='swish')(X)\n",
        "H = tf.keras.layers.Dense(8,activation='swish')(H)\n",
        "H = tf.keras.layers.Dense(8,activation='swish')(H)\n",
        "Y = tf.keras.layers.Dense(3,activation='softmax')(H)\n",
        "\n",
        "model = tf.keras.models.Model(X,Y)\n",
        "model.compile(loss='categorical_crossentropy',metrics='accuracy')"
      ],
      "metadata": {
        "id": "hM9Kg6p5BC5h"
      },
      "execution_count": 14,
      "outputs": []
    },
    {
      "cell_type": "code",
      "source": [
        "model.fit(독립,종속,epochs=10)"
      ],
      "metadata": {
        "colab": {
          "base_uri": "https://localhost:8080/"
        },
        "id": "f-0xOzUjCVXZ",
        "outputId": "4bab2e40-4be4-4459-89a4-287d3488682b"
      },
      "execution_count": 15,
      "outputs": [
        {
          "output_type": "stream",
          "name": "stdout",
          "text": [
            "Epoch 1/10\n",
            "5/5 [==============================] - 1s 3ms/step - loss: 2.2633 - accuracy: 0.3333\n",
            "Epoch 2/10\n",
            "5/5 [==============================] - 0s 4ms/step - loss: 1.9032 - accuracy: 0.3333\n",
            "Epoch 3/10\n",
            "5/5 [==============================] - 0s 4ms/step - loss: 1.6673 - accuracy: 0.3333\n",
            "Epoch 4/10\n",
            "5/5 [==============================] - 0s 3ms/step - loss: 1.4819 - accuracy: 0.3333\n",
            "Epoch 5/10\n",
            "5/5 [==============================] - 0s 4ms/step - loss: 1.3268 - accuracy: 0.4067\n",
            "Epoch 6/10\n",
            "5/5 [==============================] - 0s 4ms/step - loss: 1.1959 - accuracy: 0.5600\n",
            "Epoch 7/10\n",
            "5/5 [==============================] - 0s 3ms/step - loss: 1.0863 - accuracy: 0.6533\n",
            "Epoch 8/10\n",
            "5/5 [==============================] - 0s 3ms/step - loss: 0.9932 - accuracy: 0.6667\n",
            "Epoch 9/10\n",
            "5/5 [==============================] - 0s 4ms/step - loss: 0.9119 - accuracy: 0.6667\n",
            "Epoch 10/10\n",
            "5/5 [==============================] - 0s 3ms/step - loss: 0.8446 - accuracy: 0.6667\n"
          ]
        },
        {
          "output_type": "execute_result",
          "data": {
            "text/plain": [
              "<keras.src.callbacks.History at 0x7c47666d8ca0>"
            ]
          },
          "metadata": {},
          "execution_count": 15
        }
      ]
    },
    {
      "cell_type": "code",
      "source": [
        "model.fit(독립,종속,epochs=100,verbose=0)\n",
        "model.fit(독립,종속,epochs=10)"
      ],
      "metadata": {
        "colab": {
          "base_uri": "https://localhost:8080/"
        },
        "id": "aZr3K7EMCaNQ",
        "outputId": "de83d2c3-bc87-437a-ea1a-3303e9e7da12"
      },
      "execution_count": 16,
      "outputs": [
        {
          "output_type": "stream",
          "name": "stdout",
          "text": [
            "Epoch 1/10\n",
            "5/5 [==============================] - 0s 3ms/step - loss: 0.0918 - accuracy: 0.9533\n",
            "Epoch 2/10\n",
            "5/5 [==============================] - 0s 3ms/step - loss: 0.0893 - accuracy: 0.9667\n",
            "Epoch 3/10\n",
            "5/5 [==============================] - 0s 5ms/step - loss: 0.0862 - accuracy: 0.9600\n",
            "Epoch 4/10\n",
            "5/5 [==============================] - 0s 3ms/step - loss: 0.0844 - accuracy: 0.9733\n",
            "Epoch 5/10\n",
            "5/5 [==============================] - 0s 3ms/step - loss: 0.0807 - accuracy: 0.9800\n",
            "Epoch 6/10\n",
            "5/5 [==============================] - 0s 3ms/step - loss: 0.0851 - accuracy: 0.9733\n",
            "Epoch 7/10\n",
            "5/5 [==============================] - 0s 4ms/step - loss: 0.0792 - accuracy: 0.9733\n",
            "Epoch 8/10\n",
            "5/5 [==============================] - 0s 4ms/step - loss: 0.0918 - accuracy: 0.9733\n",
            "Epoch 9/10\n",
            "5/5 [==============================] - 0s 3ms/step - loss: 0.0813 - accuracy: 0.9867\n",
            "Epoch 10/10\n",
            "5/5 [==============================] - 0s 3ms/step - loss: 0.0769 - accuracy: 0.9867\n"
          ]
        },
        {
          "output_type": "execute_result",
          "data": {
            "text/plain": [
              "<keras.src.callbacks.History at 0x7c4777899ba0>"
            ]
          },
          "metadata": {},
          "execution_count": 16
        }
      ]
    },
    {
      "cell_type": "markdown",
      "source": [
        "학습이 끝나면 학습이 잘됐는지 평가합니다"
      ],
      "metadata": {
        "id": "iY0MKhj4Dpdl"
      }
    },
    {
      "cell_type": "code",
      "source": [
        "print(model.predict(독립[:5]))\n",
        "print(종속[:5])"
      ],
      "metadata": {
        "colab": {
          "base_uri": "https://localhost:8080/"
        },
        "id": "XpFJAa18DvEl",
        "outputId": "f97cdc72-551a-4d55-9cbf-a7179e538be7"
      },
      "execution_count": 17,
      "outputs": [
        {
          "output_type": "stream",
          "name": "stdout",
          "text": [
            "1/1 [==============================] - 0s 98ms/step\n",
            "[[9.9905187e-01 9.4817230e-04 1.7856895e-08]\n",
            " [9.9816859e-01 1.8312938e-03 8.2370022e-08]\n",
            " [9.9833798e-01 1.6618944e-03 6.8862121e-08]\n",
            " [9.9658173e-01 3.4181981e-03 1.6644482e-07]\n",
            " [9.9900705e-01 9.9301001e-04 1.7640792e-08]]\n",
            "   품종_setosa  품종_versicolor  품종_virginica\n",
            "0          1              0             0\n",
            "1          1              0             0\n",
            "2          1              0             0\n",
            "3          1              0             0\n",
            "4          1              0             0\n"
          ]
        }
      ]
    }
  ]
}