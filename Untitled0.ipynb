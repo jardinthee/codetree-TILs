{
  "nbformat": 4,
  "nbformat_minor": 0,
  "metadata": {
    "colab": {
      "provenance": [],
      "authorship_tag": "ABX9TyOCPta5BanCJVIRXxgl48OQ",
      "include_colab_link": true
    },
    "kernelspec": {
      "name": "python3",
      "display_name": "Python 3"
    },
    "language_info": {
      "name": "python"
    }
  },
  "cells": [
    {
      "cell_type": "markdown",
      "metadata": {
        "id": "view-in-github",
        "colab_type": "text"
      },
      "source": [
        "<a href=\"https://colab.research.google.com/github/jardinthee/codetree-TILs/blob/main/Untitled0.ipynb\" target=\"_parent\"><img src=\"https://colab.research.google.com/assets/colab-badge.svg\" alt=\"Open In Colab\"/></a>"
      ]
    },
    {
      "cell_type": "code",
      "execution_count": null,
      "metadata": {
        "id": "-i74mhi4MMB4"
      },
      "outputs": [],
      "source": [
        "n,m = map(int,(input().split()))\n",
        "\n",
        "def max_gong(n,m):\n",
        "    a_list = []\n",
        "    val = 1\n",
        "    for i in range(1,101):\n",
        "        if i > n and i> m:\n",
        "            break\n",
        "\n",
        "        elif n%i == 0 and m%i ==0:\n",
        "            a_list.append(i)\n",
        "            a_list.append(n/i)\n",
        "            a_list.append(m/i)\n",
        "\n",
        "    for j in range(len(a_list)):\n",
        "\n",
        "        val*= a_list[j]\n",
        "    if val == 1:\n",
        "        val = n*m\n",
        "\n",
        "    print(a_list)\n",
        "    print(val)\n",
        "\n",
        "max_gong(n,m)\n",
        "\n",
        "#====================================\n",
        "\n",
        "\n",
        "\n",
        "a,b = map(int,input().split(\" \"))\n",
        "value = 0\n",
        "\n",
        "def condition(n):\n",
        "    num_list = ['3','6','9']\n",
        "    switch = 0\n",
        "    str_num = str(n)\n",
        "    for i in range(len(str_num)):\n",
        "        if str_num[i] in num_list:\n",
        "            switch += 1\n",
        "    if switch == 0:\n",
        "        return True\n",
        "\n",
        "\n",
        "def machine(n):\n",
        "    if n % 3 == 0 and condition(n) == True:\n",
        "        return True\n",
        "\n",
        "\n",
        "\n",
        "for i in range(a,b+1):\n",
        "    if machine(i) == True:\n",
        "        value += 1\n",
        "\n",
        "print(value)"
      ]
    }
  ]
}