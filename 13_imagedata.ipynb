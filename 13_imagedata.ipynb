{
  "nbformat": 4,
  "nbformat_minor": 0,
  "metadata": {
    "colab": {
      "provenance": [],
      "authorship_tag": "ABX9TyNYim2tG3eq14kd3ojUv5Dz",
      "include_colab_link": true
    },
    "kernelspec": {
      "name": "python3",
      "display_name": "Python 3"
    },
    "language_info": {
      "name": "python"
    }
  },
  "cells": [
    {
      "cell_type": "markdown",
      "metadata": {
        "id": "view-in-github",
        "colab_type": "text"
      },
      "source": [
        "<a href=\"https://colab.research.google.com/github/jardinthee/codetree-TILs/blob/main/13_imagedata.ipynb\" target=\"_parent\"><img src=\"https://colab.research.google.com/assets/colab-badge.svg\" alt=\"Open In Colab\"/></a>"
      ]
    },
    {
      "cell_type": "markdown",
      "source": [
        "# 이미지 데이터 실습"
      ],
      "metadata": {
        "id": "4lI8qabdQv7c"
      }
    },
    {
      "cell_type": "code",
      "source": [
        "import tensorflow as tf"
      ],
      "metadata": {
        "id": "8afmfOLbQzqA"
      },
      "execution_count": 1,
      "outputs": []
    },
    {
      "cell_type": "markdown",
      "source": [
        "텐서플로에서 제공하는 샘플 이미지셋을 가져옵니다"
      ],
      "metadata": {
        "id": "ydg4ytvQQ4PF"
      }
    },
    {
      "cell_type": "code",
      "source": [
        "#MNIST데이터를 가져와서 독립변수와 종속변수를 각각 mnist_x와 mnist_y 변수로 담았습니다.\n",
        "(mnist_x, mnist_y), _ = tf.keras.datasets.mnist.load_data()\n",
        "print(mnist_x.shape,mnist_y.shape)\n",
        "\n",
        "(cifar_x, cifar_y), _ = tf.keras.datasets.cifar10.load_data()\n",
        "print(cifar_x.shape, cifar_y.shape)"
      ],
      "metadata": {
        "colab": {
          "base_uri": "https://localhost:8080/"
        },
        "id": "xCVCmy-9Q_Se",
        "outputId": "cf7c1553-990a-4ca3-fd49-de0060b91b14"
      },
      "execution_count": 2,
      "outputs": [
        {
          "output_type": "stream",
          "name": "stdout",
          "text": [
            "Downloading data from https://storage.googleapis.com/tensorflow/tf-keras-datasets/mnist.npz\n",
            "11490434/11490434 [==============================] - 0s 0us/step\n",
            "(60000, 28, 28) (60000,)\n",
            "Downloading data from https://www.cs.toronto.edu/~kriz/cifar-10-python.tar.gz\n",
            "170498071/170498071 [==============================] - 2s 0us/step\n",
            "(50000, 32, 32, 3) (50000, 1)\n"
          ]
        }
      ]
    },
    {
      "cell_type": "markdown",
      "source": [
        "여기서 콤마와 언더바를 빠뜨리지 말고 작성해야 오류가 생기지 않습니다. 언더바 라는 이름으로 변수를 만든 것이고 여기에도 값이 담깁니다. 여기서는 그 값을 사용하지 않겠다는 뜻으로 언더바를 사용했습니다."
      ],
      "metadata": {
        "id": "ASDb0-AuSFc_"
      }
    },
    {
      "cell_type": "code",
      "source": [],
      "metadata": {
        "id": "kigvvH7SSX_3"
      },
      "execution_count": null,
      "outputs": []
    },
    {
      "cell_type": "markdown",
      "source": [
        "# 화면출력"
      ],
      "metadata": {
        "id": "yZkZotyqSy8I"
      }
    },
    {
      "cell_type": "markdown",
      "source": [
        "MNISt 데이터셋을 살펴보겠습니다"
      ],
      "metadata": {
        "id": "8rhQ8SDoTw2N"
      }
    },
    {
      "cell_type": "code",
      "source": [
        "import matplotlib.pyplot as plt\n",
        "\n",
        "plt.imshow(mnist_x[0], cmap='gray')"
      ],
      "metadata": {
        "colab": {
          "base_uri": "https://localhost:8080/",
          "height": 449
        },
        "id": "j1pbqApeS0lB",
        "outputId": "be6cc863-8820-40db-ba22-4a695d11e87c"
      },
      "execution_count": 3,
      "outputs": [
        {
          "output_type": "execute_result",
          "data": {
            "text/plain": [
              "<matplotlib.image.AxesImage at 0x7dd39e95ef80>"
            ]
          },
          "metadata": {},
          "execution_count": 3
        },
        {
          "output_type": "display_data",
          "data": {
            "text/plain": [
              "<Figure size 640x480 with 1 Axes>"
            ],
            "image/png": "[encoded data removed]"
          },
          "metadata": {}
        }
      ]
    },
    {
      "cell_type": "code",
      "source": [
        "print(mnist_y[0])"
      ],
      "metadata": {
        "colab": {
          "base_uri": "https://localhost:8080/"
        },
        "id": "m6P7NizXTNQO",
        "outputId": "a44c1ee8-6818-407b-ef0e-3ee18782ecc7"
      },
      "execution_count": 4,
      "outputs": [
        {
          "output_type": "stream",
          "name": "stdout",
          "text": [
            "5\n"
          ]
        }
      ]
    },
    {
      "cell_type": "code",
      "source": [
        "print(mnist_y[0:10])"
      ],
      "metadata": {
        "colab": {
          "base_uri": "https://localhost:8080/"
        },
        "id": "ywpXHkY1TUzX",
        "outputId": "feac36e1-1a71-417f-bd6c-1afda92a88e9"
      },
      "execution_count": 5,
      "outputs": [
        {
          "output_type": "stream",
          "name": "stdout",
          "text": [
            "[5 0 4 1 9 2 1 3 1 4]\n"
          ]
        }
      ]
    },
    {
      "cell_type": "code",
      "source": [
        "plt.imshow(mnist_x[1], cmap='gray')"
      ],
      "metadata": {
        "colab": {
          "base_uri": "https://localhost:8080/",
          "height": 449
        },
        "id": "Dq27lUsJTZZs",
        "outputId": "37a7ab8c-4df3-4e2f-c62c-c46189417f5f"
      },
      "execution_count": 6,
      "outputs": [
        {
          "output_type": "execute_result",
          "data": {
            "text/plain": [
              "<matplotlib.image.AxesImage at 0x7dd39c60d1e0>"
            ]
          },
          "metadata": {},
          "execution_count": 6
        },
        {
          "output_type": "display_data",
          "data": {
            "text/plain": [
              "<Figure size 640x480 with 1 Axes>"
            ],
            "image/png": "[encoded data removed]"
          },
          "metadata": {}
        }
      ]
    },
    {
      "cell_type": "code",
      "source": [
        "plt.imshow(mnist_x[2], cmap='gray')"
      ],
      "metadata": {
        "colab": {
          "base_uri": "https://localhost:8080/",
          "height": 449
        },
        "id": "ALorDu6RTlOD",
        "outputId": "e785b012-fd27-4fd3-9fae-21fe4552cb57"
      },
      "execution_count": 7,
      "outputs": [
        {
          "output_type": "execute_result",
          "data": {
            "text/plain": [
              "<matplotlib.image.AxesImage at 0x7dd39c380280>"
            ]
          },
          "metadata": {},
          "execution_count": 7
        },
        {
          "output_type": "display_data",
          "data": {
            "text/plain": [
              "<Figure size 640x480 with 1 Axes>"
            ],
            "image/png": "[encoded data removed]"
          },
          "metadata": {}
        }
      ]
    },
    {
      "cell_type": "markdown",
      "source": [
        "CIFAR-10 데이터셋을 살펴보겠습니다."
      ],
      "metadata": {
        "id": "4oJkyRmrT3NA"
      }
    },
    {
      "cell_type": "code",
      "source": [
        "print(cifar_y[0:10])"
      ],
      "metadata": {
        "colab": {
          "base_uri": "https://localhost:8080/"
        },
        "id": "vsgeB14gTtud",
        "outputId": "00893a9b-3146-4998-f30e-486de57a3f5a"
      },
      "execution_count": 8,
      "outputs": [
        {
          "output_type": "stream",
          "name": "stdout",
          "text": [
            "[[6]\n",
            " [9]\n",
            " [9]\n",
            " [4]\n",
            " [1]\n",
            " [1]\n",
            " [2]\n",
            " [7]\n",
            " [8]\n",
            " [3]]\n"
          ]
        }
      ]
    },
    {
      "cell_type": "code",
      "source": [
        "print(cifar_y[0])\n",
        "\n",
        "import matplotlib.pyplot as plt\n",
        "plt.imshow(cifar_x[0])"
      ],
      "metadata": {
        "colab": {
          "base_uri": "https://localhost:8080/",
          "height": 467
        },
        "id": "3LkpzA52UCYb",
        "outputId": "076c3b87-23da-4143-809b-141ae89e1363"
      },
      "execution_count": 9,
      "outputs": [
        {
          "output_type": "stream",
          "name": "stdout",
          "text": [
            "[6]\n"
          ]
        },
        {
          "output_type": "execute_result",
          "data": {
            "text/plain": [
              "<matplotlib.image.AxesImage at 0x7dd39c0369e0>"
            ]
          },
          "metadata": {},
          "execution_count": 9
        },
        {
          "output_type": "display_data",
          "data": {
            "text/plain": [
              "<Figure size 640x480 with 1 Axes>"
            ],
            "image/png": "[encoded data removed]"
          },
          "metadata": {}
        }
      ]
    },
    {
      "cell_type": "code",
      "source": [
        "print(cifar_y[1])\n",
        "plt.imshow(cifar_x[1])"
      ],
      "metadata": {
        "colab": {
          "base_uri": "https://localhost:8080/",
          "height": 467
        },
        "id": "JcDjFrcgUX1g",
        "outputId": "7226403d-673e-40ff-d74f-6ba0980b5007"
      },
      "execution_count": 10,
      "outputs": [
        {
          "output_type": "stream",
          "name": "stdout",
          "text": [
            "[9]\n"
          ]
        },
        {
          "output_type": "execute_result",
          "data": {
            "text/plain": [
              "<matplotlib.image.AxesImage at 0x7dd39c767b80>"
            ]
          },
          "metadata": {},
          "execution_count": 10
        },
        {
          "output_type": "display_data",
          "data": {
            "text/plain": [
              "<Figure size 640x480 with 1 Axes>"
            ],
            "image/png": "[encoded data removed]"
          },
          "metadata": {}
        }
      ]
    },
    {
      "cell_type": "markdown",
      "source": [
        "# 차원확인"
      ],
      "metadata": {
        "id": "5BJPhfPyUxMC"
      }
    },
    {
      "cell_type": "code",
      "source": [
        "import numpy as np\n",
        "\n",
        "d1 = np.array([1,2,3,4,5])\n",
        "print(d1.shape)"
      ],
      "metadata": {
        "colab": {
          "base_uri": "https://localhost:8080/"
        },
        "id": "X7w-naeWU1GO",
        "outputId": "f6ea34f9-f401-44a6-8cec-2a40c8dab83b"
      },
      "execution_count": 11,
      "outputs": [
        {
          "output_type": "stream",
          "name": "stdout",
          "text": [
            "(5,)\n"
          ]
        }
      ]
    },
    {
      "cell_type": "markdown",
      "source": [
        "데이터 형태로 차원을 이해하면..\n",
        "d1은 1차원 형태고 5개 요소를 가진다고 본다.\n",
        "shape를 찍었을 때 숫자가 하나 들어있으므로 깊이가 1차원"
      ],
      "metadata": {
        "id": "H1h_gU7BVFul"
      }
    },
    {
      "cell_type": "code",
      "source": [
        "d2 = np.array([d1,d1,d1,d1])\n",
        "print(d2.shape)"
      ],
      "metadata": {
        "colab": {
          "base_uri": "https://localhost:8080/"
        },
        "id": "xGNgU2ctVWbb",
        "outputId": "4aca52c3-7ab0-44cc-dda1-a1aefdcaa6d4"
      },
      "execution_count": 12,
      "outputs": [
        {
          "output_type": "stream",
          "name": "stdout",
          "text": [
            "(4, 5)\n"
          ]
        }
      ]
    },
    {
      "cell_type": "markdown",
      "source": [
        "(4,5) ->2차원이 나왔다!"
      ],
      "metadata": {
        "id": "NAVDEOIpVlJV"
      }
    },
    {
      "cell_type": "code",
      "source": [
        "d3 = np.array([d2,d2,d2])\n",
        "print(d3.shape)"
      ],
      "metadata": {
        "colab": {
          "base_uri": "https://localhost:8080/"
        },
        "id": "IF5AmCICViYK",
        "outputId": "7a5adcc7-b4bf-46b4-c837-b13704775f94"
      },
      "execution_count": 13,
      "outputs": [
        {
          "output_type": "stream",
          "name": "stdout",
          "text": [
            "(3, 4, 5)\n"
          ]
        }
      ]
    },
    {
      "cell_type": "code",
      "source": [
        "d4 = np.array([d3,d3])\n",
        "print(d4.shape)"
      ],
      "metadata": {
        "colab": {
          "base_uri": "https://localhost:8080/"
        },
        "id": "460auTy0V34k",
        "outputId": "c6f12dd2-7cde-4021-c065-1eb6ed1c1e2d"
      },
      "execution_count": 14,
      "outputs": [
        {
          "output_type": "stream",
          "name": "stdout",
          "text": [
            "(2, 3, 4, 5)\n"
          ]
        }
      ]
    },
    {
      "cell_type": "markdown",
      "source": [
        "# MNIST와 CIFAR-10 의 종속변수의 형태를 비교하기"
      ],
      "metadata": {
        "id": "fXG3UiRuWCrK"
      }
    },
    {
      "cell_type": "code",
      "source": [
        "print(mnist_y.shape)\n",
        "print(cifar_y.shape)"
      ],
      "metadata": {
        "colab": {
          "base_uri": "https://localhost:8080/"
        },
        "id": "KAWmAgaUWJbH",
        "outputId": "dc7ae368-9aa3-4128-88cc-6dc9b52e16fe"
      },
      "execution_count": 15,
      "outputs": [
        {
          "output_type": "stream",
          "name": "stdout",
          "text": [
            "(60000,)\n",
            "(50000, 1)\n"
          ]
        }
      ]
    },
    {
      "cell_type": "markdown",
      "source": [
        "이해를 위해 숫자 5개가 들어있는 x1을 선언하고 x1.shape를 출력함\n",
        "mnist_y는 이런식으로 숫자들이 구성되어있다고 볼 수 있음"
      ],
      "metadata": {
        "id": "9189a3tIWd4I"
      }
    },
    {
      "cell_type": "code",
      "source": [
        "x1 = np.array([1,2,3,4,5])\n",
        "print(x1)\n",
        "print(x1.shape)\n",
        "\n",
        "print(mnist_y[0:5])\n",
        "print(mnist_y[0:5].shape)"
      ],
      "metadata": {
        "colab": {
          "base_uri": "https://localhost:8080/"
        },
        "id": "NCIcV7o7WQkk",
        "outputId": "88166df4-5f7d-42e1-a7d4-3a1fd34e0beb"
      },
      "execution_count": 18,
      "outputs": [
        {
          "output_type": "stream",
          "name": "stdout",
          "text": [
            "[1 2 3 4 5]\n",
            "(5,)\n",
            "[5 0 4 1 9]\n",
            "(5,)\n"
          ]
        }
      ]
    },
    {
      "cell_type": "markdown",
      "source": [
        "x2는 대괄호 두번써서 만들어보았다. 어떤 모양일까?"
      ],
      "metadata": {
        "id": "EG2pihHyaM3x"
      }
    },
    {
      "cell_type": "code",
      "source": [
        "x2 = np.array([[1,2,3,4,5]])\n",
        "print(x2.shape)"
      ],
      "metadata": {
        "colab": {
          "base_uri": "https://localhost:8080/"
        },
        "id": "F5YSeDM4ZmJP",
        "outputId": "98e0f4ff-ff93-437a-a604-86af8d5a0ac2"
      },
      "execution_count": 21,
      "outputs": [
        {
          "output_type": "stream",
          "name": "stdout",
          "text": [
            "(1, 5)\n"
          ]
        }
      ]
    },
    {
      "cell_type": "markdown",
      "source": [
        "X2에는 [1,2,3,4,5]라는 배열 한 개가 들어있다. 그래서 (1,5)라고 출력된다. 2차원 형태인데, 5개의 요소로 이뤄진 배열 1개를 들고있다.\n",
        "\n",
        "아래 코드는 요소 5개짜리가 3개 들어있는 형태가 된다.\n",
        "d2에서 만들었던 것과 비슷한 형태"
      ],
      "metadata": {
        "id": "lFbkgCuYaSz9"
      }
    },
    {
      "cell_type": "code",
      "source": [
        "x2= np.array([[1,2,3,4,5],[1,2,3,4,5],[1,2,3,4,5]])\n",
        "print(x2.shape)"
      ],
      "metadata": {
        "colab": {
          "base_uri": "https://localhost:8080/"
        },
        "id": "h5weYaIraBvH",
        "outputId": "9feb1b7f-7763-44da-dea3-13a9339ab0ba"
      },
      "execution_count": 23,
      "outputs": [
        {
          "output_type": "stream",
          "name": "stdout",
          "text": [
            "(3, 5)\n"
          ]
        }
      ]
    },
    {
      "cell_type": "markdown",
      "source": [
        "마지막으로, (5,1)을 만들려면 어떻게 해야 할까?\n",
        "요소를 각각 하나씩 주는 것이다"
      ],
      "metadata": {
        "id": "1Mh5DEQcbArk"
      }
    },
    {
      "cell_type": "code",
      "source": [
        "x3 = np.array([[1],[2],[3],[4],[5]])\n",
        "print(x3.shape)"
      ],
      "metadata": {
        "colab": {
          "base_uri": "https://localhost:8080/"
        },
        "id": "QXspq85oa3QM",
        "outputId": "db71735a-168b-421c-b4ab-e4b3651dd493"
      },
      "execution_count": 24,
      "outputs": [
        {
          "output_type": "stream",
          "name": "stdout",
          "text": [
            "(5, 1)\n"
          ]
        }
      ]
    },
    {
      "cell_type": "markdown",
      "source": [
        "그러면 (5,1)로 된다. 이것이 바로 cifar_y[0:5]의 형태이다\n",
        "\n",
        "\n",
        "참고: mnist_y[0:5]는\n",
        "[5 0 4 1 9] 의 형태였다"
      ],
      "metadata": {
        "id": "jubmd0dmbTCv"
      }
    },
    {
      "cell_type": "code",
      "source": [
        "print(cifar_y[0:5])\n",
        "print(cifar_y[0:5].shape)"
      ],
      "metadata": {
        "colab": {
          "base_uri": "https://localhost:8080/"
        },
        "id": "Nj7LBee6bRKC",
        "outputId": "fff6ea38-4427-4898-9452-272bc7d044e8"
      },
      "execution_count": 25,
      "outputs": [
        {
          "output_type": "stream",
          "name": "stdout",
          "text": [
            "[[6]\n",
            " [9]\n",
            " [9]\n",
            " [4]\n",
            " [1]]\n",
            "(5, 1)\n"
          ]
        }
      ]
    },
    {
      "cell_type": "code",
      "source": [],
      "metadata": {
        "id": "e9lYiqpvbyQ1"
      },
      "execution_count": null,
      "outputs": []
    }
  ]
}